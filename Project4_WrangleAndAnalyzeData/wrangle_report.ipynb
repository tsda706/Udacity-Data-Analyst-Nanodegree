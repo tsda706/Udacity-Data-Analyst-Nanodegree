{
 "cells": [
  {
   "cell_type": "markdown",
   "metadata": {},
   "source": [
    "# Wrangle Report"
   ]
  },
  {
   "cell_type": "markdown",
   "metadata": {},
   "source": [
    "## Introduction\n",
    "In this project, I wrangled (and analyzed and visualized) data from the archive of Twitter user @dog_rates, also known as WeRateDogs. WeRateDogs is a Twitter account that rates people's dogs with a humorous comment about the dog. This archive contains basic tweet data (tweet ID, timestamp, text, etc.) for all 5000+ of their tweets as they stood on August 1, 2017.\n",
    "\n",
    "To be more specificly, I completed the following steps in this project.\n",
    "\n",
    "Step 1: Gathering data\n",
    "\n",
    "Step 2: Assessing data\n",
    "\n",
    "Step 3: Cleaning data\n",
    "\n",
    "Step 4: Storing and acting on wrangled data"
   ]
  },
  {
   "cell_type": "markdown",
   "metadata": {},
   "source": [
    "## Step 1: Gathering data"
   ]
  },
  {
   "cell_type": "markdown",
   "metadata": {},
   "source": [
    "I have gathered data from the three (3) different sources provided by Udacity. Each piece of data is imported into a separate pandas DataFrame at first."
   ]
  },
  {
   "cell_type": "markdown",
   "metadata": {},
   "source": [
    "## Step 2: Assessing data"
   ]
  },
  {
   "cell_type": "markdown",
   "metadata": {},
   "source": [
    "Visual and programmatic assessment are used in this step. Data quality issues and tidiness issues are detected."
   ]
  },
  {
   "cell_type": "markdown",
   "metadata": {},
   "source": [
    "### Quality issues\n",
    "\n",
    "#### Twitter Archive table (df)\n",
    "1. Missing data in columns including \"in_reply_to_status_id\", \"in_reply_to_user_id\", \"retweeted_status_id\", \"retweeted_status_user_id\", \"retweeted_status_timestamp\".\n",
    "\n",
    "2. Retweets are included in the dataset.\n",
    "\n",
    "3. Source columns have HTML tags.\n",
    "\n",
    "4. Timestamp and retweeted_status_timestamp is an object.\n",
    "\n",
    "5. Dogs name have 'None', or 'a', or 'an.' and some only has lower case as names.\n",
    "\n",
    "6. Multiple dog stages occurs such as 'doggo puppo', 'doggo pupper', 'doggo floofer'.\n",
    "\n",
    "7. The ratings for dogs are nor standardized.\n",
    "\n",
    "#### Tweet image predictions (image_df):\n",
    "\n",
    "8. Dog breeds are not consistently in p1,p2,p3 columns.\n",
    "\n",
    "#### Tweet-json dataframe (tweet_json):\n",
    "\n",
    "9. Retweet and favorite information is not available for all tweets and cannot be retrieved."
   ]
  },
  {
   "cell_type": "markdown",
   "metadata": {},
   "source": [
    "### Tidiness issues\n",
    "#### Twitter Archive table (df)\n",
    "1. There are multiple columns containing the same type of data, e.g. doggo, floofer, pupper and puppo all contain dog types.\n",
    "\n",
    "#### Tweet image predictions (image_df):\n",
    "2. This dataset is part of the same observational unit as the data in the previous dataframe(df).\n",
    "\n",
    "#### Tweet-json dataframe (tweet_json):\n",
    "3. This dataset is part of the same observational unit as the data in the previous dataframe (df)."
   ]
  },
  {
   "cell_type": "markdown",
   "metadata": {},
   "source": [
    "## Step 3: Cleaning data"
   ]
  },
  {
   "cell_type": "markdown",
   "metadata": {},
   "source": [
    "All issues identified in step 2 are successfully cleaned (if possible) using Python. \n",
    "\n",
    "The define, code, and test steps of the cleaning process are also documented. \n",
    "\n",
    "A tidy master dataset with all pieces of gathered data is created."
   ]
  },
  {
   "cell_type": "markdown",
   "metadata": {},
   "source": [
    "## Step 4: Storing and acting on wrangled data"
   ]
  },
  {
   "cell_type": "markdown",
   "metadata": {},
   "source": [
    "The gathered, assessed, and cleaned master dataset is saved to a CSV file and the final dataset is analyzed using pandas.\n",
    "\n",
    "I also gave out three separate insights and visualized one of the insights (the first )."
   ]
  },
  {
   "cell_type": "markdown",
   "metadata": {},
   "source": [
    "### Insights:\n",
    "\n",
    "1. From the provided data, Top 10 frequent breeds for dogs are: \n",
    "golden_retriever, labrador_retriever， pembroke, chihuahua, pug,chow, Samoyed, Pomeranian, toy_poodle, and malamute.\n",
    "\n",
    "2. From the provided data, Top 5 names for dogs are:\n",
    "Oliver, Charlie, Cooper, Tucker, and Lucy.\n",
    "\n",
    "3. From the provided data, the most frequent stage for dogs is pupper."
   ]
  }
 ],
 "metadata": {
  "kernelspec": {
   "display_name": "Python 3",
   "language": "python",
   "name": "python3"
  },
  "language_info": {
   "codemirror_mode": {
    "name": "ipython",
    "version": 3
   },
   "file_extension": ".py",
   "mimetype": "text/x-python",
   "name": "python",
   "nbconvert_exporter": "python",
   "pygments_lexer": "ipython3",
   "version": "3.6.3"
  }
 },
 "nbformat": 4,
 "nbformat_minor": 2
}
