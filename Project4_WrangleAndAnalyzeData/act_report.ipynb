{
 "cells": [
  {
   "cell_type": "markdown",
   "metadata": {},
   "source": [
    "# Report: act_report\n"
   ]
  },
  {
   "cell_type": "markdown",
   "metadata": {},
   "source": [
    "## 1. Introduction\n",
    "In this project, I wrangled (and analyzed and visualized) data from the archive of Twitter user @dog_rates, also known as WeRateDogs. WeRateDogs is a Twitter account that rates people's dogs with a humorous comment about the dog. This archive contains basic tweet data (tweet ID, timestamp, text, etc.) for all 5000+ of their tweets as they stood on August 1, 2017."
   ]
  },
  {
   "cell_type": "markdown",
   "metadata": {},
   "source": [
    "To be more specificly, I gathered, assessed, cleaned the provided data, stored the data in a csv file, and analyzed the data with some visualization."
   ]
  },
  {
   "cell_type": "markdown",
   "metadata": {},
   "source": [
    "## 2. Issues found in the assessing step"
   ]
  },
  {
   "cell_type": "markdown",
   "metadata": {},
   "source": [
    "### Quality issues\n",
    "\n",
    "#### Twitter Archive table (df)\n",
    "1. Missing data in columns including \"in_reply_to_status_id\", \"in_reply_to_user_id\", \"retweeted_status_id\", \"retweeted_status_user_id\", \"retweeted_status_timestamp\".\n",
    "\n",
    "2. Retweets are included in the dataset.\n",
    "\n",
    "3. Source columns have HTML tags.\n",
    "\n",
    "4. Timestamp and retweeted_status_timestamp is an object.\n",
    "\n",
    "5. Dogs name have 'None', or 'a', or 'an.' and some only has lower case as names.\n",
    "\n",
    "6. Multiple dog stages occurs such as 'doggo puppo', 'doggo pupper', 'doggo floofer'.\n",
    "\n",
    "7. The ratings for dogs are nor standardized.\n",
    "\n",
    "#### Tweet image predictions (image_df):\n",
    "\n",
    "8. Dog breeds are not consistently in p1,p2,p3 columns.\n",
    "\n",
    "#### Tweet-json dataframe (tweet_json):\n",
    "\n",
    "9. Retweet and favorite information is not available for all tweets and cannot be retrieved."
   ]
  },
  {
   "cell_type": "markdown",
   "metadata": {},
   "source": [
    "### Tidiness issues\n",
    "#### Twitter Archive table (df)\n",
    "1. There are multiple columns containing the same type of data, e.g. doggo, floofer, pupper and puppo all contain dog types.\n",
    "\n",
    "#### Tweet image predictions (image_df):\n",
    "2. This dataset is part of the same observational unit as the data in the previous dataframe(df).\n",
    "\n",
    "#### Tweet-json dataframe (tweet_json):\n",
    "3. This dataset is part of the same observational unit as the data in the previous dataframe (df)."
   ]
  },
  {
   "cell_type": "markdown",
   "metadata": {},
   "source": [
    "## 3. Insights and visualization"
   ]
  },
  {
   "cell_type": "markdown",
   "metadata": {},
   "source": [
    "### Insights:\n",
    "\n",
    "1. From the provided data, Top 10 frequent breeds for dogs are: \n",
    "golden_retriever, labrador_retriever， pembroke, chihuahua, pug,chow, Samoyed, Pomeranian, toy_poodle, and malamute.\n",
    "\n",
    "2. From the provided data, Top 5 names for dogs are:\n",
    "Oliver, Charlie, Cooper, Tucker, and Lucy.\n",
    "\n",
    "3. From the provided data, the most frequent stage for dogs is pupper."
   ]
  },
  {
   "cell_type": "markdown",
   "metadata": {},
   "source": [
    "**More details about how I came up with the insight could be found in wrangle_act.ipynb.**"
   ]
  },
  {
   "cell_type": "markdown",
   "metadata": {},
   "source": [
    "### visualization"
   ]
  },
  {
   "cell_type": "code",
   "execution_count": 4,
   "metadata": {},
   "outputs": [],
   "source": [
    "import pandas as pd\n",
    "import matplotlib.pyplot as plt\n",
    "# read main_df.csv\n",
    "new_df = pd.read_csv('twitter_archive_master.csv')"
   ]
  },
  {
   "cell_type": "code",
   "execution_count": 5,
   "metadata": {},
   "outputs": [
    {
     "data": {
      "image/png": "[encoded data removed]",
      "text/plain": [
       "<matplotlib.figure.Figure at 0x7fe518edae10>"
      ]
     },
     "metadata": {
      "needs_background": "light"
     },
     "output_type": "display_data"
    }
   ],
   "source": [
    "# Top 10 frequent frequent breeds for dogs\n",
    "new_df['breed_prediction'].value_counts()[0:10].sort_values(ascending=False).plot(kind = 'bar')\n",
    "plt.ylabel('Number of Breed Prediction')\n",
    "plt.title('Top 10 frequent dog breeds', size=15)\n",
    "plt.xlabel('Dog Breed')\n",
    "plt.plot();"
   ]
  }
 ],
 "metadata": {
  "kernelspec": {
   "display_name": "Python 3",
   "language": "python",
   "name": "python3"
  },
  "language_info": {
   "codemirror_mode": {
    "name": "ipython",
    "version": 3
   },
   "file_extension": ".py",
   "mimetype": "text/x-python",
   "name": "python",
   "nbconvert_exporter": "python",
   "pygments_lexer": "ipython3",
   "version": "3.6.3"
  }
 },
 "nbformat": 4,
 "nbformat_minor": 2
}
